{
 "cells": [
  {
   "cell_type": "markdown",
   "metadata": {},
   "source": [
    "# Scraper mediante API - Pagina de IEX"
   ]
  },
  {
   "cell_type": "markdown",
   "metadata": {},
   "source": [
    "## Importamos las librerias necesarias"
   ]
  },
  {
   "cell_type": "markdown",
   "metadata": {},
   "source": [
    "### Aquí se están importando las bibliotecas necesarias. requests se utiliza para realizar solicitudes HTTP, csv para trabajar con archivos CSV, y PrettyTable para crear una tabla visualmente atractiva en la consola."
   ]
  },
  {
   "cell_type": "code",
   "execution_count": 1,
   "metadata": {},
   "outputs": [],
   "source": [
    "import requests\n",
    "import csv\n",
    "from prettytable import PrettyTable\n"
   ]
  },
  {
   "cell_type": "markdown",
   "metadata": {},
   "source": [
    "## Clave de API y Símbolo de Acción:"
   ]
  },
  {
   "cell_type": "markdown",
   "metadata": {},
   "source": [
    "### Se define la clave de la API de IEX Cloud y el símbolo de la acción que se va a consultar, en nuestro caso AAPL, que es el simbolo de la accion de Apple"
   ]
  },
  {
   "cell_type": "code",
   "execution_count": 2,
   "metadata": {},
   "outputs": [],
   "source": [
    "api_key = 'pk_5bd2e27b09764c8bab0140ccbaa9766e'\n",
    "symbol = 'AAPL'"
   ]
  },
  {
   "cell_type": "markdown",
   "metadata": {},
   "source": [
    "## URLs de la API:"
   ]
  },
  {
   "cell_type": "markdown",
   "metadata": {},
   "source": [
    "### Se define la URL para obtener datos históricos de la acción AAPL desde la API de IEX Cloud"
   ]
  },
  {
   "cell_type": "code",
   "execution_count": 3,
   "metadata": {},
   "outputs": [],
   "source": [
    "url= f'https://cloud.iexapis.com/stable/stock/{symbol}/chart/1m?chartLast=25&token={api_key}'\n"
   ]
  },
  {
   "cell_type": "markdown",
   "metadata": {},
   "source": [
    "## Solicitudes GET a la API:"
   ]
  },
  {
   "cell_type": "markdown",
   "metadata": {},
   "source": [
    "### Se realizan tres solicitudes GET a la API de IEX Cloud utilizando las URLs definidas."
   ]
  },
  {
   "cell_type": "code",
   "execution_count": 5,
   "metadata": {},
   "outputs": [
    {
     "ename": "NameError",
     "evalue": "name 'url' is not defined",
     "output_type": "error",
     "traceback": [
      "\u001b[1;31m---------------------------------------------------------------------------\u001b[0m",
      "\u001b[1;31mNameError\u001b[0m                                 Traceback (most recent call last)",
      "\u001b[1;32mc:\\Users\\aniba\\OneDrive\\ISPC\\proyecto integrador\\Proyecto_Grupo\\proyecto-integrador-2022\\scraper_API.ipynb Celda 13\u001b[0m line \u001b[0;36m1\n\u001b[1;32m----> <a href='vscode-notebook-cell:/c%3A/Users/aniba/OneDrive/ISPC/proyecto%20integrador/Proyecto_Grupo/proyecto-integrador-2022/scraper_API.ipynb#X15sZmlsZQ%3D%3D?line=0'>1</a>\u001b[0m response \u001b[39m=\u001b[39m requests\u001b[39m.\u001b[39mget(url)\n",
      "\u001b[1;31mNameError\u001b[0m: name 'url' is not defined"
     ]
    }
   ],
   "source": [
    "response = requests.get(url)\n",
    "\n"
   ]
  },
  {
   "cell_type": "markdown",
   "metadata": {},
   "source": [
    "## Verificar el Éxito de las Solicitudes:"
   ]
  },
  {
   "cell_type": "markdown",
   "metadata": {},
   "source": [
    "### Se verifica si ambas solicitudes fueron exitosas (código de estado HTTP 200), se procede a combinar los resultados en una Sola Lista, se crea nombre del Archivo CSV y Tabla, y Guardar Datos en un Archivo CSV y Mostrar en la Tabla:"
   ]
  },
  {
   "cell_type": "code",
   "execution_count": null,
   "metadata": {},
   "outputs": [
    {
     "name": "stdout",
     "output_type": "stream",
     "text": [
      "+------------+------------------+----------+\n",
      "|   Fecha    | Precio de Cierre | Volumen  |\n",
      "+------------+------------------+----------+\n",
      "| 2023-11-10 |      186.4       | 66177922 |\n",
      "| 2023-11-09 |      182.41      | 53763540 |\n",
      "| 2023-11-08 |      182.89      | 49340282 |\n",
      "| 2023-11-07 |      181.82      | 70529966 |\n",
      "| 2023-11-06 |      179.23      | 63841310 |\n",
      "| 2023-11-03 |      176.65      | 79829246 |\n",
      "| 2023-11-02 |      177.57      | 77334752 |\n",
      "| 2023-11-01 |      173.97      | 56934906 |\n",
      "| 2023-10-31 |      170.77      | 44846017 |\n",
      "| 2023-10-30 |      170.29      | 51130955 |\n",
      "| 2023-10-27 |      168.22      | 58499129 |\n",
      "| 2023-10-26 |      166.89      | 70625258 |\n",
      "| 2023-10-25 |      171.1       | 57156962 |\n",
      "| 2023-10-24 |      173.44      | 43816644 |\n",
      "| 2023-10-23 |       173        | 55980109 |\n",
      "| 2023-10-20 |      172.88      | 64244028 |\n",
      "| 2023-10-19 |      175.46      | 59302863 |\n",
      "| 2023-10-18 |      175.84      | 54764375 |\n",
      "| 2023-10-17 |      177.15      | 57549350 |\n",
      "| 2023-10-16 |      178.72      | 52516984 |\n",
      "| 2023-10-13 |      178.85      | 51456082 |\n",
      "| 2023-10-12 |      180.71      | 56743119 |\n",
      "| 2023-11-10 |      186.4       | 66177922 |\n",
      "| 2023-11-09 |      182.41      | 53763540 |\n",
      "| 2023-11-08 |      182.89      | 49340282 |\n",
      "| 2023-11-07 |      181.82      | 70529966 |\n",
      "| 2023-11-06 |      179.23      | 63841310 |\n",
      "| 2023-11-03 |      176.65      | 79829246 |\n",
      "| 2023-11-02 |      177.57      | 77334752 |\n",
      "| 2023-11-01 |      173.97      | 56934906 |\n",
      "| 2023-10-31 |      170.77      | 44846017 |\n",
      "| 2023-10-30 |      170.29      | 51130955 |\n",
      "| 2023-10-27 |      168.22      | 58499129 |\n",
      "| 2023-10-26 |      166.89      | 70625258 |\n",
      "| 2023-10-25 |      171.1       | 57156962 |\n",
      "| 2023-10-24 |      173.44      | 43816644 |\n",
      "| 2023-10-23 |       173        | 55980109 |\n",
      "| 2023-10-20 |      172.88      | 64244028 |\n",
      "| 2023-10-19 |      175.46      | 59302863 |\n",
      "| 2023-10-18 |      175.84      | 54764375 |\n",
      "| 2023-10-17 |      177.15      | 57549350 |\n",
      "| 2023-10-16 |      178.72      | 52516984 |\n",
      "| 2023-10-13 |      178.85      | 51456082 |\n",
      "| 2023-10-12 |      180.71      | 56743119 |\n",
      "| 2023-11-10 |      186.4       | 66177922 |\n",
      "| 2023-11-09 |      182.41      | 53763540 |\n",
      "| 2023-11-08 |      182.89      | 49340282 |\n",
      "| 2023-11-07 |      181.82      | 70529966 |\n",
      "| 2023-11-06 |      179.23      | 63841310 |\n",
      "| 2023-11-03 |      176.65      | 79829246 |\n",
      "| 2023-11-02 |      177.57      | 77334752 |\n",
      "| 2023-11-01 |      173.97      | 56934906 |\n",
      "| 2023-10-31 |      170.77      | 44846017 |\n",
      "| 2023-10-30 |      170.29      | 51130955 |\n",
      "| 2023-10-27 |      168.22      | 58499129 |\n",
      "| 2023-10-26 |      166.89      | 70625258 |\n",
      "| 2023-10-25 |      171.1       | 57156962 |\n",
      "| 2023-10-24 |      173.44      | 43816644 |\n",
      "| 2023-10-23 |       173        | 55980109 |\n",
      "| 2023-10-20 |      172.88      | 64244028 |\n",
      "| 2023-10-19 |      175.46      | 59302863 |\n",
      "| 2023-10-18 |      175.84      | 54764375 |\n",
      "| 2023-10-17 |      177.15      | 57549350 |\n",
      "| 2023-10-16 |      178.72      | 52516984 |\n",
      "| 2023-10-13 |      178.85      | 51456082 |\n",
      "| 2023-10-12 |      180.71      | 56743119 |\n",
      "+------------+------------------+----------+\n",
      "Los datos han sido guardados en 'historicoNuevoIEX_aapl.csv'\n"
     ]
    }
   ],
   "source": [
    "if response.status_code == 200:\n",
    "    # Convertir las respuestas JSON en listas de diccionarios\n",
    "    data = response.json()\n",
    "    \n",
    "    # Nombre del archivo CSV\n",
    "    csv_file = 'historicoIEX_aapl.csv'\n",
    "\n",
    "    # Inicializar una tabla para mostrar los datos en la consola\n",
    "    table = PrettyTable()\n",
    "    table.field_names = ['Fecha', 'Precio de Cierre', 'Volumen']\n",
    "\n",
    "    # Guardar los datos en un archivo CSV y mostrarlos en la tabla\n",
    "    with open(csv_file, 'w', newline='') as file:\n",
    "        writer = csv.writer(file)\n",
    "        writer.writerow(['Fecha', 'Precio de Cierre', 'Volumen'])  # Encabezados del archivo CSV\n",
    "        for record in data:\n",
    "            date = record['date']\n",
    "            close_price = record['close']\n",
    "            volume = record['volume']\n",
    "            writer.writerow([date, close_price, volume])\n",
    "            table.add_row([date, close_price, volume])\n",
    "\n",
    "    # Mostrar la tabla en la consola\n",
    "    print(table)\n",
    "\n",
    "    print(f\"Los datos han sido guardados en '{csv_file}'\")\n",
    "\n",
    "else:\n",
    "    print(\"Error al hacer la solicitud a la API de IEX Cloud.\")\n"
   ]
  },
  {
   "cell_type": "markdown",
   "metadata": {},
   "source": []
  },
  {
   "cell_type": "markdown",
   "metadata": {},
   "source": []
  },
  {
   "cell_type": "code",
   "execution_count": null,
   "metadata": {},
   "outputs": [],
   "source": []
  }
 ],
 "metadata": {
  "kernelspec": {
   "display_name": "Python 3",
   "language": "python",
   "name": "python3"
  },
  "language_info": {
   "codemirror_mode": {
    "name": "ipython",
    "version": 3
   },
   "file_extension": ".py",
   "mimetype": "text/x-python",
   "name": "python",
   "nbconvert_exporter": "python",
   "pygments_lexer": "ipython3",
   "version": "3.12.0"
  }
 },
 "nbformat": 4,
 "nbformat_minor": 2
}
